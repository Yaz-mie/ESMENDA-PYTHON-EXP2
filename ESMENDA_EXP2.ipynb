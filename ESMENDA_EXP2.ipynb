{
 "cells": [
  {
   "cell_type": "code",
   "execution_count": 22,
   "id": "9a4949b4-2103-403b-826f-b6ea4221c176",
   "metadata": {},
   "outputs": [],
   "source": [
    "#Import numpy library\n",
    "import numpy as np"
   ]
  },
  {
   "cell_type": "code",
   "execution_count": 24,
   "id": "14249b24-a6bd-4d87-bb33-b4b6357e1a05",
   "metadata": {},
   "outputs": [],
   "source": [
    "#Create random 5x5 ndarray\n",
    "X = np.random.rand(5, 5)"
   ]
  },
  {
   "cell_type": "code",
   "execution_count": 38,
   "id": "43e49816-8b5e-407f-9036-80ef8241a31c",
   "metadata": {},
   "outputs": [],
   "source": [
    "#Normalize X\n",
    "Xmean = X.mean() \n",
    "Xstd = X.std()\n",
    "Xnormalized = (X - Xmean) / Xstd"
   ]
  },
  {
   "cell_type": "code",
   "execution_count": 39,
   "id": "65c44247-c910-4779-ac24-a607eaa2afd1",
   "metadata": {},
   "outputs": [],
   "source": [
    "#Save the result of the normalized array\n",
    "np.save('X_normalized.npy', Xnormalized)"
   ]
  },
  {
   "cell_type": "code",
   "execution_count": 40,
   "id": "da3ce3d5-fb2d-4eff-a6a3-f031b9f928c2",
   "metadata": {},
   "outputs": [
    {
     "name": "stdout",
     "output_type": "stream",
     "text": [
      "[[-1.59565069 -1.1540401   0.0545932   1.27538413 -0.04314275]\n",
      " [-0.6169413  -0.36033139  0.42454355  0.23849779  2.1047331 ]\n",
      " [ 0.78885753  1.58186781 -1.62738335 -0.59505226 -0.17121451]\n",
      " [-1.24321837 -0.03050061 -1.52992266 -0.04343387  1.9837278 ]\n",
      " [ 0.34309834  0.17492267  0.23813022 -0.33115436  0.13363008]]\n"
     ]
    }
   ],
   "source": [
    "#print output\n",
    "print(Xnormalized)"
   ]
  },
  {
   "cell_type": "code",
   "execution_count": 41,
   "id": "70d95dfb-1895-466e-8c8a-deda45714882",
   "metadata": {},
   "outputs": [],
   "source": [
    "#Import numpy library\n",
    "import numpy as np"
   ]
  },
  {
   "cell_type": "code",
   "execution_count": 47,
   "id": "583abbf9-132f-4ece-b9a2-82365e01239c",
   "metadata": {},
   "outputs": [],
   "source": [
    "#Get the first positive integers from 1 - 100\n",
    "A = np.arange(1,101) \n",
    "#Then construct a 10x10 array, then get the squares of each integers\n",
    "Aarray = A.reshape(10,10) ** 2 "
   ]
  },
  {
   "cell_type": "code",
   "execution_count": 48,
   "id": "629b42d9-9f1c-444c-9c03-b3319843d7e7",
   "metadata": {},
   "outputs": [],
   "source": [
    "#Find elements divisible by 3\n",
    "divisible = A[A % 3 == 0]"
   ]
  },
  {
   "cell_type": "code",
   "execution_count": 49,
   "id": "caefdff9-3336-4e4b-9f14-50905f7031e9",
   "metadata": {},
   "outputs": [],
   "source": [
    "#Save to file\n",
    "np.save(\"div_by_3.npy\", divisible)"
   ]
  },
  {
   "cell_type": "code",
   "execution_count": 50,
   "id": "3fdbcb61-8ae8-4765-8171-a40c20472a67",
   "metadata": {},
   "outputs": [
    {
     "name": "stdout",
     "output_type": "stream",
     "text": [
      "[ 3  6  9 12 15 18 21 24 27 30 33 36 39 42 45 48 51 54 57 60 63 66 69 72\n",
      " 75 78 81 84 87 90 93 96 99]\n"
     ]
    }
   ],
   "source": [
    "#print output\n",
    "print(divisible)"
   ]
  }
 ],
 "metadata": {
  "kernelspec": {
   "display_name": "Python 3 (ipykernel)",
   "language": "python",
   "name": "python3"
  },
  "language_info": {
   "codemirror_mode": {
    "name": "ipython",
    "version": 3
   },
   "file_extension": ".py",
   "mimetype": "text/x-python",
   "name": "python",
   "nbconvert_exporter": "python",
   "pygments_lexer": "ipython3",
   "version": "3.13.5"
  }
 },
 "nbformat": 4,
 "nbformat_minor": 5
}
